{
 "cells": [
  {
   "cell_type": "code",
   "execution_count": 2,
   "metadata": {},
   "outputs": [],
   "source": [
    "#importing libraries\n",
    "#nltk - Natural language processing tasks\n",
    "# Textblob - sentiment analysis\n",
    "import nltk\n",
    "from textblob import TextBlob\n",
    "from newspaper import Article\n",
    "import tkinter as tk"
   ]
  },
  {
   "cell_type": "code",
   "execution_count": 3,
   "metadata": {},
   "outputs": [
    {
     "name": "stderr",
     "output_type": "stream",
     "text": [
      "[nltk_data] Downloading package punkt to C:\\Users\\KEN\n",
      "[nltk_data]     ESAU\\AppData\\Roaming\\nltk_data...\n",
      "[nltk_data]   Package punkt is already up-to-date!\n"
     ]
    },
    {
     "data": {
      "text/plain": [
       "True"
      ]
     },
     "execution_count": 3,
     "metadata": {},
     "output_type": "execute_result"
    }
   ],
   "source": [
    "# using NLP library we download punkt - its a tokenizer, for splitting text into sentences\n",
    "nltk.download(\"punkt\")"
   ]
  },
  {
   "cell_type": "code",
   "execution_count": 4,
   "metadata": {},
   "outputs": [],
   "source": [
    "# set up an articles url\n",
    "url = 'https://www.linkedin.com/pulse/beginner-large-language-models-llm-kennedy-esau-743jf/'"
   ]
  },
  {
   "cell_type": "code",
   "execution_count": 5,
   "metadata": {},
   "outputs": [],
   "source": [
    "article = Article(url)\n",
    "\n",
    "article.download()\n",
    "article.parse()\n",
    "\n",
    "article.nlp()"
   ]
  },
  {
   "cell_type": "code",
   "execution_count": 6,
   "metadata": {},
   "outputs": [
    {
     "name": "stdout",
     "output_type": "stream",
     "text": [
      "Title: Beginner - Large Language Models (LLM)\n",
      "Authors: []\n",
      "Publication Date: None\n",
      "Summary: Hierarchy of AIIn 1960 Generative AI was introduced by Russian mathematician Andrey Markov - Markov models were initially used for tasks like next-word predictionWhere does the term:\"Large\" in LLM come from ?\n",
      "CAT = C + A + TLLM's use word vectors whereby each word vector represents a point in a imaginary 'word space' and words with similar meanings are placed.\n",
      "Using word vectors enables Language Models to view data in more than 2 dimensions.\n",
      "Storage: Extensive storage capacity (multiple terabytes) is required to store the training data and the LLM itself.\n",
      "Large Datasets: Access to massive datasets of text and code is necessary for training the LLM.\n"
     ]
    }
   ],
   "source": [
    "#Print out Comments summary\n",
    "\n",
    "print(f'Title: {article.title}')\n",
    "print(f'Authors: {article.authors}')\n",
    "print(f'Publication Date: {article.publish_date}')\n",
    "print(f'Summary: {article.summary}')"
   ]
  },
  {
   "cell_type": "code",
   "execution_count": 8,
   "metadata": {},
   "outputs": [
    {
     "name": "stdout",
     "output_type": "stream",
     "text": [
      "0.04576839826839829\n",
      "Sentiment: Friendly\n"
     ]
    }
   ],
   "source": [
    "# Sentiment analysis\n",
    "\n",
    "analysis = TextBlob(article.text)\n",
    "print(analysis.polarity)\n",
    "print(f'Sentiment: {\"Friendly\" if analysis.polarity > 0 else \"Disagreement\" if analysis.polarity < 0 else \"neutral\"}')"
   ]
  }
 ],
 "metadata": {
  "kernelspec": {
   "display_name": "base",
   "language": "python",
   "name": "python3"
  },
  "language_info": {
   "codemirror_mode": {
    "name": "ipython",
    "version": 3
   },
   "file_extension": ".py",
   "mimetype": "text/x-python",
   "name": "python",
   "nbconvert_exporter": "python",
   "pygments_lexer": "ipython3",
   "version": "3.11.7"
  }
 },
 "nbformat": 4,
 "nbformat_minor": 2
}
